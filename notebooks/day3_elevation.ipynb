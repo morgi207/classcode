{
 "metadata": {
  "name": "",
  "signature": "sha256:43d09ca2f48eac4c51cc0a345422513a9f2df19aec5d8a67c9999b0684797be8"
 },
 "nbformat": 3,
 "nbformat_minor": 0,
 "worksheets": [
  {
   "cells": [
    {
     "cell_type": "heading",
     "level": 1,
     "metadata": {},
     "source": [
      "Day 3 exercise: use Stull eqn 2.6 to find elevation for Dec. 22, Mar. 23 and Jun. 22 2014"
     ]
    },
    {
     "cell_type": "heading",
     "level": 2,
     "metadata": {},
     "source": [
      "Step 1: find solar declination angle $\\delta_s$"
     ]
    },
    {
     "cell_type": "markdown",
     "metadata": {},
     "source": [
      "this function uses the python datetime module to correctly find the length of\n",
      "the year for normal or leap years"
     ]
    },
    {
     "cell_type": "code",
     "collapsed": false,
     "input": [
      "#make all division floating point\n",
      "from __future__ import division\n",
      "import datetime\n",
      "import pytz\n",
      "from math import asin,sin,cos,pi\n",
      "\n",
      "\n",
      "def find_deltas(the_date):\n",
      "    \"\"\"given a python datetime object (local time)\n",
      "       find the solar declination angle in degrees\n",
      "       using Stull equation 2.5\n",
      "\n",
      "       input: datetime object with or without timezone\n",
      "       output:  solar declination angle in degrees\n",
      "    \"\"\"\n",
      "    the_year=the_date.year\n",
      "    #\n",
      "    # find the length of the year in days by subtracting\n",
      "    # two datetimes exactly 1 year apart -- jan 1, 0 hours, 0 minutes, 0 seconds\n",
      "    # \n",
      "    year_start=datetime.datetime(the_year,1,1,0,0,0)\n",
      "    year_end=datetime.datetime(the_year+1,1,1,0,0,0)\n",
      "    year_length=(year_end - year_start).days\n",
      "    phir=23.44 #axis tilt in degrees from stull\n",
      "    #number of days since the new year\n",
      "    the_day=(the_date - year_start).days\n",
      "    solstice=172 #stull\n",
      "    fraction=(the_day - solstice)/year_length\n",
      "    deltas=phir*cos(2*pi*fraction)\n",
      "    return deltas"
     ],
     "language": "python",
     "metadata": {},
     "outputs": [],
     "prompt_number": ""
    },
    {
     "cell_type": "heading",
     "level": 2,
     "metadata": {},
     "source": [
      "Step 2: find the elevation using equation 2.6"
     ]
    },
    {
     "cell_type": "markdown",
     "metadata": {},
     "source": [
      "use the timezone module pytz to convert local vancouver time to UTC,\n",
      "correctly accounting for daylight savings time\n"
     ]
    },
    {
     "cell_type": "code",
     "collapsed": false,
     "input": [
      "def find_elevation(the_date):\n",
      "    \"\"\"find the solar elevation for Vancouver in degrees given a python\n",
      "       datetime object without a timezone representing\n",
      "       vancouver local time, using Stull eqn. 2.6\n",
      "\n",
      "       input:  datetime object (no timezone)\n",
      "       output: solar elevation in degrees\n",
      "    \"\"\"\n",
      "    deg2rad=pi/180.\n",
      "    rad2deg=1./deg2rad\n",
      "    deltas=find_deltas(the_date)\n",
      "    deltas=deltas*deg2rad\n",
      "    #stull p. 32 gives lat and lon for vancouver\n",
      "    phi=49.25*deg2rad #vancouver latitude deg N\n",
      "    lambda_e = 123.1*deg2rad #vancouver longitude, deg W\n",
      "    pacific=pytz.timezone('US/Pacific')\n",
      "    utc=pytz.timezone('UTC')\n",
      "    #\n",
      "    # give the time a pacific timezone\n",
      "    #\n",
      "    vancouver=pacific.localize(the_date)\n",
      "    #convert to utc\n",
      "    vancouver=vancouver.astimezone(utc)\n",
      "    t_utc=vancouver.hour\n",
      "    #stull eqn 2.6\n",
      "    sin_psi=sin(phi)*sin(deltas) - cos(phi)*cos(deltas)*cos(2*pi*t_utc/24. - lambda_e)\n",
      "    elevation=asin(sin_psi)*rad2deg\n",
      "    #write 0 if under the horizon\n",
      "    if elevation < 0:\n",
      "        elevation=0.\n",
      "    return elevation"
     ],
     "language": "python",
     "metadata": {},
     "outputs": [],
     "prompt_number": ""
    },
    {
     "cell_type": "heading",
     "level": 2,
     "metadata": {},
     "source": [
      "Step 3: print the 3 days for 2014"
     ]
    },
    {
     "cell_type": "code",
     "collapsed": false,
     "input": [
      "print(\"note that on 6/22 the highest elevation occurs at 1 pm, because of DST\")\n",
      "print(\"{:5s}  {:5s}  {:5s} {:5s}\".format('hour','12/22','3/23','6/22') )\n",
      "print(\"=\"*30)\n",
      "for hour in range(3,23):\n",
      "    dec22=datetime.datetime(2014,12,22,hour,0,0)\n",
      "    mar23=datetime.datetime(2014,3,23,hour,0,0)\n",
      "    jun22=datetime.datetime(2014,6,22,hour,0,0)\n",
      "    elevation=[find_elevation(item) for item in [dec22,mar23,jun22]]\n",
      "    #right justify the columns and make them all 5 characters wide\n",
      "    # see http://clouds.eos.ubc.ca/~phil/djpine_python/Book/_build/html/chap4/chap4_io.html?highlight=format\n",
      "\n",
      "    # see http://clouds.eos.ubc.ca/~phil/djpine_python/Book/_build/html/chap7/chap7_funcs.html#user-defined-functions\n",
      "    # for an explanation of *elevation\n",
      "    print(\"{:>5d} {:>5.2f}  {:>5.2f}  {:>5.2f}\".format(hour,*elevation))\n",
      "\n",
      "     "
     ],
     "language": "python",
     "metadata": {},
     "outputs": [],
     "prompt_number": ""
    }
   ],
   "metadata": {}
  }
 ]
}