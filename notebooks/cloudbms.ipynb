{
 "metadata": {
  "name": "",
  "signature": "sha256:d408e9f00edc6e9778fca5974a8c25949e28dd800e316330e70379e35b96f6cf"
 },
 "nbformat": 3,
 "nbformat_minor": 0,
 "worksheets": [
  {
   "cells": [
    {
     "cell_type": "markdown",
     "metadata": {},
     "source": [
      "## getting the cloud fraction from channels 1 and 31 -- brightness temperature"
     ]
    },
    {
     "cell_type": "markdown",
     "metadata": {},
     "source": [
      "### This is a modification of cloud_fraction.ipynb to use brightness temperature instead of Channel 31 radiance"
     ]
    },
    {
     "cell_type": "markdown",
     "metadata": {},
     "source": [
      "For Wednesday's assignment you wrote a script [subset.py](https://github.com/a301-teaching/classcode/blob/master/lib/subset.py) that defined the output_h5 function and wrote test_output.h5\n",
      "Now read channel1 and channel 31 back in and use them to calculate the cloud fraction.  (Recall that \n",
      "[MODIS channels 1 and 31](http://en.wikipedia.org/wiki/Moderate-Resolution_Imaging_Spectroradiometer)\n",
      "are centered at about 0.64 microns and 11 microns, respectively.)  This notebook assumes that you have converted your\n",
      "MYD021KM and MYD03 files to test_output.  To reproduce my results go to http://clouds.eos.ubc.ca/~phil/Downloads/a301 \n",
      "and get the file A2005188.h5 and put it in a folder called **data**, at the same level a lib and notebooks"
     ]
    },
    {
     "cell_type": "code",
     "collapsed": false,
     "input": [
      "import sys\n",
      "print(sys.path)\n",
      "\n",
      "from __future__ import print_function\n",
      "from __future__ import division\n",
      "import os,site\n",
      "import glob\n",
      "import h5py\n",
      "import numpy as np\n",
      "from matplotlib import pyplot as plt\n",
      "#\n",
      "# add the lib folder to the path assuming it is on the same\n",
      "# level as the notebooks folder\n",
      "#\n",
      "libdir=os.path.abspath('../lib')\n",
      "site.addsitedir(libdir)\n",
      "from modismeta_h5 import parseMeta\n",
      "from h5dump import dumph5"
     ],
     "language": "python",
     "metadata": {},
     "outputs": [
      {
       "output_type": "stream",
       "stream": "stdout",
       "text": [
        "['', 'c:\\\\Users\\\\Morgen\\\\Anaconda\\\\python27.zip', 'c:\\\\Users\\\\Morgen\\\\Anaconda\\\\DLLs', 'c:\\\\Users\\\\Morgen\\\\Anaconda\\\\lib', 'c:\\\\Users\\\\Morgen\\\\Anaconda\\\\lib\\\\plat-win', 'c:\\\\Users\\\\Morgen\\\\Anaconda\\\\lib\\\\lib-tk', 'c:\\\\Users\\\\Morgen\\\\Anaconda', 'c:\\\\Users\\\\Morgen\\\\Anaconda\\\\lib\\\\site-packages', 'c:\\\\Users\\\\Morgen\\\\Anaconda\\\\lib\\\\site-packages\\\\PIL', 'c:\\\\Users\\\\Morgen\\\\Anaconda\\\\lib\\\\site-packages\\\\win32', 'c:\\\\Users\\\\Morgen\\\\Anaconda\\\\lib\\\\site-packages\\\\win32\\\\lib', 'c:\\\\Users\\\\Morgen\\\\Anaconda\\\\lib\\\\site-packages\\\\Pythonwin', 'c:\\\\Users\\\\Morgen\\\\Anaconda\\\\lib\\\\site-packages\\\\runipy-0.1.0-py2.7.egg', 'c:\\\\Users\\\\Morgen\\\\Anaconda\\\\lib\\\\site-packages\\\\setuptools-3.6-py2.7.egg', 'c:\\\\Users\\\\Morgen\\\\Anaconda\\\\lib\\\\site-packages\\\\IPython\\\\extensions', 'c:\\\\Users\\\\Morgen\\\\Documents\\\\GitHub\\\\classcode\\\\lib']\n"
       ]
      }
     ],
     "prompt_number": 37
    },
    {
     "cell_type": "code",
     "collapsed": false,
     "input": [
      "%matplotlib inline"
     ],
     "language": "python",
     "metadata": {},
     "outputs": [],
     "prompt_number": 38
    },
    {
     "cell_type": "markdown",
     "metadata": {},
     "source": [
      "the glob function finds a file using a wildcard to save typing (google: python glob wildcard)"
     ]
    },
    {
     "cell_type": "code",
     "collapsed": false,
     "input": [
      "h5_filename=glob.glob('../notebooks/*swath*.h5')[0]\n",
      "print(\"found subsetted file {}\".format(h5_filename))"
     ],
     "language": "python",
     "metadata": {},
     "outputs": [
      {
       "output_type": "stream",
       "stream": "stdout",
       "text": [
        "found subsetted file ../notebooks\\swath_output.h5\n"
       ]
      }
     ],
     "prompt_number": 39
    },
    {
     "cell_type": "code",
     "collapsed": false,
     "input": [
      "h5_file=h5py.File(h5_filename)"
     ],
     "language": "python",
     "metadata": {},
     "outputs": [],
     "prompt_number": 40
    },
    {
     "cell_type": "markdown",
     "metadata": {},
     "source": [
      "**Read back the arrays I wrote with output_h5**"
     ]
    },
    {
     "cell_type": "code",
     "collapsed": false,
     "input": [
      "chan1=h5_file['channel1'][...]\n",
      "chan31=h5_file['channel31'][...]\n",
      "lats=h5_file['lattitude'][...]\n",
      "lons=h5_file['longitude'][...]"
     ],
     "language": "python",
     "metadata": {},
     "outputs": [],
     "prompt_number": 41
    },
    {
     "cell_type": "markdown",
     "metadata": {},
     "source": [
      "### find the brightness temperature for the chan31 radiances at 11.05 microns"
     ]
    },
    {
     "cell_type": "code",
     "collapsed": false,
     "input": [
      "c=2.99792458e+08  #m/s -- speed of light in vacumn\n",
      "h=6.62606876e-34  #J s  -- Planck's constant\n",
      "kb=1.3806503e-23  # J/K  -- Boltzman's constant\n",
      "c1=2.*h*c**2.\n",
      "c2=h*c/kb\n",
      "\n",
      "def planckInvert(wavel,Llambda):\n",
      "    \"\"\"input wavelength in microns and Llambda in W/m^2/micron/sr, output\n",
      "    output brightness temperature in K  (note that we've remove the factor\n",
      "    of pi because we are working with radiances, not fluxes)\n",
      "    \"\"\"\n",
      "    Llambda=Llambda*1.e6  #convert to W/m^2/m/sr\n",
      "    wavel=wavel*1.e-6  #convert wavelength to m\n",
      "    Tbright=c2/(wavel*np.log(c1/(wavel**5.*Llambda) + 1.))\n",
      "    return Tbright"
     ],
     "language": "python",
     "metadata": {},
     "outputs": [],
     "prompt_number": 42
    },
    {
     "cell_type": "code",
     "collapsed": false,
     "input": [
      "Tb=planckInvert(11.05,chan31)\n",
      "print(Tb)"
     ],
     "language": "python",
     "metadata": {},
     "outputs": [
      {
       "output_type": "stream",
       "stream": "stdout",
       "text": [
        "[[ 280.12286377  281.46951294  283.23651123 ...,  290.27386475  290.1322937\n",
        "   287.78024292]\n",
        " [ 279.98391724  282.39208984  284.11700439 ...,  290.22332764\n",
        "   289.63027954  289.487854  ]\n",
        " [ 279.5322876   281.10699463  283.58636475 ...,  290.06143188\n",
        "   287.81121826  286.27636719]\n",
        " ..., \n",
        " [ 254.05345154  257.03103638  262.26095581 ...,  286.08233643\n",
        "   285.86691284  285.61410522]\n",
        " [ 256.11810303  259.27355957  264.14825439 ...,  286.09280396\n",
        "   285.98257446  285.76690674]\n",
        " [ 256.87359619  260.61273193  264.9336853  ...,  286.16625977\n",
        "   285.95101929  285.69845581]]\n"
       ]
      }
     ],
     "prompt_number": 43
    },
    {
     "cell_type": "markdown",
     "metadata": {},
     "source": [
      "turn the repoj_L1B notebook function into a module:"
     ]
    },
    {
     "cell_type": "code",
     "collapsed": false,
     "input": [
      "from reproject import reproj_L1B"
     ],
     "language": "python",
     "metadata": {},
     "outputs": [],
     "prompt_number": 44
    },
    {
     "cell_type": "markdown",
     "metadata": {},
     "source": [
      "## Two dimensional histograms using histogram2d"
     ]
    },
    {
     "cell_type": "markdown",
     "metadata": {},
     "source": [
      "### writing the gridded files  out to be reused in subsequent runs (memoization)"
     ]
    },
    {
     "cell_type": "markdown",
     "metadata": {},
     "source": [
      "reprojecting onto a regular lat/lon grid takes a long time.  To speed things up, we save the gridded variables in\n",
      "an npz file if write_grid=True.   If we don't need to change the grid, we can set write_grid=False\n",
      "and just read the gridded files in."
     ]
    },
    {
     "cell_type": "code",
     "collapsed": false,
     "input": [
      "write_grid=True\n",
      "if os.path.exists('keepgrid.npz'):\n",
      "    print('found keepgrid.npz, reusing gridded fields')\n",
      "    write_grid=False\n",
      "if write_grid:\n",
      "    print('writing new keepgrid.npz file')\n",
      "    res=0.05\n",
      "    xlim=[np.min(lons), np.max(lons)]\n",
      "    ylim=[np.min(lats), np.max(lats)]\n",
      "    Tb_grid, longitude, latitude, bin_count = reproj_L1B(Tb, lons, lats, xlim, ylim, res)\n",
      "    C1_grid, longitude, latitude, bin_count = reproj_L1B(chan1, lons, lats, xlim, ylim, res)\n",
      "    #\n",
      "    # save these arrays in a dictionary and write out to keepgrid.npz\n",
      "    #\n",
      "    keep_grids=dict(Tb_grid=Tb_grid,C1_grid=C1_grid,longitude=longitude,latitude=latitude,bin_count=bin_count)\n",
      "    np.savez('keepgrid.npz',**keep_grids)\n",
      "else:\n",
      "    grid_dict=np.load('keepgrid.npz')\n",
      "    latitude=grid_dict['latitude'];longitude=grid_dict['longitude'];bin_count=grid_dict['bin_count'];\n",
      "    Tb_grid=grid_dict['Tb_grid'];C1_grid=grid_dict['C1_grid']"
     ],
     "language": "python",
     "metadata": {},
     "outputs": [
      {
       "output_type": "stream",
       "stream": "stdout",
       "text": [
        "found keepgrid.npz, reusing gridded fields\n"
       ]
      }
     ],
     "prompt_number": 45
    },
    {
     "cell_type": "markdown",
     "metadata": {},
     "source": [
      "As a first try: bin the longwave radiances into 100 bins and the shortwave reflectances into 150 bins"
     ]
    },
    {
     "cell_type": "code",
     "collapsed": false,
     "input": [
      "# create bins for brightness temp\n",
      "Tb_bins = 50\n",
      "Tb_lim=[np.nanmin(Tb_grid), np.nanmax(Tb_grid)]\n",
      "Tb_bins=np.linspace(Tb_lim[0], Tb_lim[1], Tb_bins, dtype=np.float)\n",
      "# and channel-1 reflectance\n",
      "C1_bins = 50\n",
      "C1_lim=[np.nanmin(C1_grid), np.nanmax(C1_grid)]\n",
      "C1_bins=np.linspace(C1_lim[0], C1_lim[1], C1_bins, dtype=np.float)"
     ],
     "language": "python",
     "metadata": {},
     "outputs": [],
     "prompt_number": 46
    },
    {
     "cell_type": "markdown",
     "metadata": {},
     "source": [
      "Here, we define **channel-1** data on **x-axis** and call `np.histogram2d` to get the bin_count value `x_edges` and `y_edges`. \n",
      "Use some print statments to find the dimensions of H, X, and Y.  In particular, make sure you understand\n",
      "how np.meshgrid is turning two 1-dimensional arrays into two 2-dimensional arrays.\n",
      "Try something like:\n",
      "\n",
      "np.meshgrid([1,2,3,4],[-1,-2,-3,-4,-5,-6]) to see what it does"
     ]
    },
    {
     "cell_type": "code",
     "collapsed": false,
     "input": [
      "y=Tb_grid.flat[:]; y_bins=Tb_bins # x: Tb\n",
      "x=C1_grid.flat[:]; x_bins=C1_bins # y: C1\n",
      "print (y_bins)\n",
      "print (x_bins)\n",
      "\n",
      "plt.hist(y)\n",
      "\n",
      "plt.hist(x)\n"
     ],
     "language": "python",
     "metadata": {},
     "outputs": [
      {
       "output_type": "stream",
       "stream": "stdout",
       "text": [
        "[ 190.36775879  192.58079933  194.79383987  197.00688041  199.21992095\n",
        "  201.43296149  203.64600203  205.85904257  208.07208311  210.28512365\n",
        "  212.49816419  214.71120473  216.92424527  219.13728581  221.35032635\n",
        "  223.56336689  225.77640743  227.98944797  230.20248851  232.41552905\n",
        "  234.62856959  236.84161013  239.05465067  241.26769121  243.48073175\n",
        "  245.69377229  247.90681283  250.11985337  252.33289391  254.54593445\n",
        "  256.75897499  258.97201553  261.18505607  263.39809661  265.61113715\n",
        "  267.82417769  270.03721823  272.25025877  274.46329931  276.67633986\n",
        "  278.8893804   281.10242094  283.31546148  285.52850202  287.74154256\n",
        "  289.9545831   292.16762364  294.38066418  296.59370472  298.80674526]\n",
        "[ 3.49783349  3.49783349  3.49783349  3.49783349  3.49783349  3.49783349\n",
        "  3.49783349  3.49783349  3.49783349  3.49783349  3.49783349  3.49783349\n",
        "  3.49783349  3.49783349  3.49783349  3.49783349  3.49783349  3.49783349\n",
        "  3.49783349  3.49783349  3.49783349  3.49783349  3.49783349  3.49783349\n",
        "  3.49783349  3.49783349  3.49783349  3.49783349  3.49783349  3.49783349\n",
        "  3.49783349  3.49783349  3.49783349  3.49783349  3.49783349  3.49783349\n",
        "  3.49783349  3.49783349  3.49783349  3.49783349  3.49783349  3.49783349\n",
        "  3.49783349  3.49783349  3.49783349  3.49783349  3.49783349  3.49783349\n",
        "  3.49783349  3.49783349]\n"
       ]
      },
      {
       "ename": "AttributeError",
       "evalue": "max must be larger than min in range parameter.",
       "output_type": "pyerr",
       "traceback": [
        "\u001b[1;31m---------------------------------------------------------------------------\u001b[0m\n\u001b[1;31mAttributeError\u001b[0m                            Traceback (most recent call last)",
        "\u001b[1;32m<ipython-input-47-9589a375b8e2>\u001b[0m in \u001b[0;36m<module>\u001b[1;34m()\u001b[0m\n\u001b[0;32m      4\u001b[0m \u001b[1;32mprint\u001b[0m \u001b[1;33m(\u001b[0m\u001b[0mx_bins\u001b[0m\u001b[1;33m)\u001b[0m\u001b[1;33m\u001b[0m\u001b[0m\n\u001b[0;32m      5\u001b[0m \u001b[1;33m\u001b[0m\u001b[0m\n\u001b[1;32m----> 6\u001b[1;33m \u001b[0mplt\u001b[0m\u001b[1;33m.\u001b[0m\u001b[0mhist\u001b[0m\u001b[1;33m(\u001b[0m\u001b[0my\u001b[0m\u001b[1;33m)\u001b[0m\u001b[1;33m\u001b[0m\u001b[0m\n\u001b[0m\u001b[0;32m      7\u001b[0m \u001b[1;33m\u001b[0m\u001b[0m\n\u001b[0;32m      8\u001b[0m \u001b[0mplt\u001b[0m\u001b[1;33m.\u001b[0m\u001b[0mhist\u001b[0m\u001b[1;33m(\u001b[0m\u001b[0mx\u001b[0m\u001b[1;33m)\u001b[0m\u001b[1;33m\u001b[0m\u001b[0m\n",
        "\u001b[1;32mc:\\Users\\Morgen\\Anaconda\\lib\\site-packages\\matplotlib\\pyplot.pyc\u001b[0m in \u001b[0;36mhist\u001b[1;34m(x, bins, range, normed, weights, cumulative, bottom, histtype, align, orientation, rwidth, log, color, label, stacked, hold, **kwargs)\u001b[0m\n\u001b[0;32m   2888\u001b[0m                       \u001b[0mhisttype\u001b[0m\u001b[1;33m=\u001b[0m\u001b[0mhisttype\u001b[0m\u001b[1;33m,\u001b[0m \u001b[0malign\u001b[0m\u001b[1;33m=\u001b[0m\u001b[0malign\u001b[0m\u001b[1;33m,\u001b[0m \u001b[0morientation\u001b[0m\u001b[1;33m=\u001b[0m\u001b[0morientation\u001b[0m\u001b[1;33m,\u001b[0m\u001b[1;33m\u001b[0m\u001b[0m\n\u001b[0;32m   2889\u001b[0m                       \u001b[0mrwidth\u001b[0m\u001b[1;33m=\u001b[0m\u001b[0mrwidth\u001b[0m\u001b[1;33m,\u001b[0m \u001b[0mlog\u001b[0m\u001b[1;33m=\u001b[0m\u001b[0mlog\u001b[0m\u001b[1;33m,\u001b[0m \u001b[0mcolor\u001b[0m\u001b[1;33m=\u001b[0m\u001b[0mcolor\u001b[0m\u001b[1;33m,\u001b[0m \u001b[0mlabel\u001b[0m\u001b[1;33m=\u001b[0m\u001b[0mlabel\u001b[0m\u001b[1;33m,\u001b[0m\u001b[1;33m\u001b[0m\u001b[0m\n\u001b[1;32m-> 2890\u001b[1;33m                       stacked=stacked, **kwargs)\n\u001b[0m\u001b[0;32m   2891\u001b[0m         \u001b[0mdraw_if_interactive\u001b[0m\u001b[1;33m(\u001b[0m\u001b[1;33m)\u001b[0m\u001b[1;33m\u001b[0m\u001b[0m\n\u001b[0;32m   2892\u001b[0m     \u001b[1;32mfinally\u001b[0m\u001b[1;33m:\u001b[0m\u001b[1;33m\u001b[0m\u001b[0m\n",
        "\u001b[1;32mc:\\Users\\Morgen\\Anaconda\\lib\\site-packages\\matplotlib\\axes\\_axes.pyc\u001b[0m in \u001b[0;36mhist\u001b[1;34m(self, x, bins, range, normed, weights, cumulative, bottom, histtype, align, orientation, rwidth, log, color, label, stacked, **kwargs)\u001b[0m\n\u001b[0;32m   5634\u001b[0m             \u001b[1;31m# this will automatically overwrite bins,\u001b[0m\u001b[1;33m\u001b[0m\u001b[1;33m\u001b[0m\u001b[0m\n\u001b[0;32m   5635\u001b[0m             \u001b[1;31m# so that each histogram uses the same bins\u001b[0m\u001b[1;33m\u001b[0m\u001b[1;33m\u001b[0m\u001b[0m\n\u001b[1;32m-> 5636\u001b[1;33m             \u001b[0mm\u001b[0m\u001b[1;33m,\u001b[0m \u001b[0mbins\u001b[0m \u001b[1;33m=\u001b[0m \u001b[0mnp\u001b[0m\u001b[1;33m.\u001b[0m\u001b[0mhistogram\u001b[0m\u001b[1;33m(\u001b[0m\u001b[0mx\u001b[0m\u001b[1;33m[\u001b[0m\u001b[0mi\u001b[0m\u001b[1;33m]\u001b[0m\u001b[1;33m,\u001b[0m \u001b[0mbins\u001b[0m\u001b[1;33m,\u001b[0m \u001b[0mweights\u001b[0m\u001b[1;33m=\u001b[0m\u001b[0mw\u001b[0m\u001b[1;33m[\u001b[0m\u001b[0mi\u001b[0m\u001b[1;33m]\u001b[0m\u001b[1;33m,\u001b[0m \u001b[1;33m**\u001b[0m\u001b[0mhist_kwargs\u001b[0m\u001b[1;33m)\u001b[0m\u001b[1;33m\u001b[0m\u001b[0m\n\u001b[0m\u001b[0;32m   5637\u001b[0m             \u001b[0mm\u001b[0m \u001b[1;33m=\u001b[0m \u001b[0mm\u001b[0m\u001b[1;33m.\u001b[0m\u001b[0mastype\u001b[0m\u001b[1;33m(\u001b[0m\u001b[0mfloat\u001b[0m\u001b[1;33m)\u001b[0m  \u001b[1;31m# causes problems later if it's an int\u001b[0m\u001b[1;33m\u001b[0m\u001b[0m\n\u001b[0;32m   5638\u001b[0m             \u001b[1;32mif\u001b[0m \u001b[0mmlast\u001b[0m \u001b[1;32mis\u001b[0m \u001b[0mNone\u001b[0m\u001b[1;33m:\u001b[0m\u001b[1;33m\u001b[0m\u001b[0m\n",
        "\u001b[1;32mc:\\Users\\Morgen\\Anaconda\\lib\\site-packages\\numpy\\lib\\function_base.pyc\u001b[0m in \u001b[0;36mhistogram\u001b[1;34m(a, bins, range, normed, weights, density)\u001b[0m\n\u001b[0;32m    174\u001b[0m         \u001b[1;32mif\u001b[0m \u001b[1;33m(\u001b[0m\u001b[0mmn\u001b[0m \u001b[1;33m>\u001b[0m \u001b[0mmx\u001b[0m\u001b[1;33m)\u001b[0m\u001b[1;33m:\u001b[0m\u001b[1;33m\u001b[0m\u001b[0m\n\u001b[0;32m    175\u001b[0m             raise AttributeError(\n\u001b[1;32m--> 176\u001b[1;33m                 'max must be larger than min in range parameter.')\n\u001b[0m\u001b[0;32m    177\u001b[0m \u001b[1;33m\u001b[0m\u001b[0m\n\u001b[0;32m    178\u001b[0m     \u001b[1;32mif\u001b[0m \u001b[1;32mnot\u001b[0m \u001b[0miterable\u001b[0m\u001b[1;33m(\u001b[0m\u001b[0mbins\u001b[0m\u001b[1;33m)\u001b[0m\u001b[1;33m:\u001b[0m\u001b[1;33m\u001b[0m\u001b[0m\n",
        "\u001b[1;31mAttributeError\u001b[0m: max must be larger than min in range parameter."
       ]
      },
      {
       "metadata": {},
       "output_type": "display_data",
       "png": "[encoded data removed]",
       "text": [
        "<matplotlib.figure.Figure at 0xacfcd30>"
       ]
      }
     ],
     "prompt_number": 47
    },
    {
     "cell_type": "code",
     "collapsed": false,
     "input": [
      "H, y_edges, x_edges = np.histogram2d(y, x, bins=(y_bins, x_bins))\n",
      "X, Y = np.meshgrid(x_edges[:-1], y_edges[:-1])"
     ],
     "language": "python",
     "metadata": {},
     "outputs": []
    },
    {
     "cell_type": "markdown",
     "metadata": {},
     "source": [
      "Then we make 2-D histogram to see the difference between clouds and ocean, the core idea is:\n",
      "```python\n",
      " # 2-D histogram\n",
      "ax.contourf(X, Y, H/np.max(H)) # use percentage, because H depends on the resolution 'res' we used before.\n",
      "# try to distinguish clouds from ocean through linear function\n",
      "# x is channel-1\n",
      "```       \n",
      "\n",
      "We will display the 2-D histogram as the central plot, with 1-d histograms positioned\n",
      "to the left and below.  We want an approximately 9-color colormap showing percentages in increments\n",
      "of 10% between our min and max\n"
     ]
    },
    {
     "cell_type": "code",
     "collapsed": false,
     "input": [
      "# make_axes_locatable ---> for axis control\n",
      "from mpl_toolkits.axes_grid1 import make_axes_locatable\n",
      "# set axis locations for three different plots\n",
      "# a main contour plot and two histograms below and on\n",
      "# the left hand side\n",
      "#\n",
      "left=0.1; width = 0.8; bottom=0.1; height = 0.65\n",
      "gap=0.02; hist_len=0.2; cbar_len=0.12\n",
      "# location of the three axes  -- located by trial and error\n",
      "#\n",
      "#\n",
      "rect_main  = [left+hist_len+gap, bottom, width, height]\n",
      "rect_histx = [left+hist_len+gap, left+height+gap, width-cbar_len, hist_len]\n",
      "rect_histy = [left, bottom, hist_len, height]\n",
      "# clev\n",
      "#clevs=range(40, 281, 40)\n",
      "#\n",
      "# set up a color map for the histogram percentages,  again\n",
      "# trial and erro shows that about 10 bins between 3 and 30%\n",
      "# looks attractive\n",
      "#\n",
      "#  also assign white to percentages below 3%\n",
      "#\n",
      "#\n",
      "clevs=np.arange(3, 31, 3)\n",
      "CMap=plt.cm.PuBu\n",
      "CMap.set_over(CMap(np.arange(256))[-1, 0:3])\n",
      "CMap.set_under('w')\n",
      "#\n",
      "xlim_bin=[np.min(X), np.max(X)]\n",
      "ylim_bin=[np.min(Y), np.max(Y)]\n",
      "#\n",
      "# ========== figure ========== #\n",
      "fig=plt.figure(figsize=(9, 9))\n",
      "# ========== Central histogram here ========== #\n",
      "# axis \n",
      "axMain=plt.axes(rect_main)\n",
      "axMain.yaxis.tick_right()\n",
      "axMain.yaxis.set_label_position('right')\n",
      "axMain.set_xlim(xlim_bin)\n",
      "axMain.set_ylim(ylim_bin)\n",
      "axMain.set_xlabel('Channel-1 reflectivity', fontsize=12)\n",
      "axMain.set_ylabel('Channel-31 brightness temperature (K)', fontsize=12)\n",
      "axMain.set_title('2-D Histogram -- MODIS 0.6 and 11 microns', fontsize=16, fontweight='bold', x=1.15, y=1.15)\n",
      "#\n",
      "#  divider is a container  used locate the colorbar to the right of the 2-d histogram\n",
      "#  it knows where axMain is located on the page\n",
      "#\n",
      "divider=make_axes_locatable(axMain)\n",
      "# grid and frame\n",
      "plt.grid() # grid on\n",
      "#\n",
      "#  make the axes thicker than default\n",
      "#\n",
      "[i.set_linewidth(2) for i in axMain.spines.itervalues()] # a bold frame\n",
      "#\n",
      "#  plot the main histogram with the counts converted to percent\n",
      "#\n",
      "CS=axMain.contourf(X, Y, H/np.max(H)*100, clevs, cmap=CMap, extend='both') # 2-D histgram\n",
      "CAx=divider.append_axes('right', size='5%', pad=0.75)\n",
      "CBar=plt.colorbar(CS, cax=CAx)\n",
      "CBar.set_label('Percentage ( % )', fontsize=10)\n",
      "CBar.ax.tick_params(axis='y', length=22.5)\n",
      "# draw line showing the boundary between cloudy and clear pixels\n",
      "#\n",
      "#  slope and intercept chosen by eye\n",
      "#  the line Tbright=reflectivity*20./0.2 + 275.  seems to separate the \n",
      "#  main warm cluster from the colder clouds\n",
      "#\n",
      "axMain.plot(x_edges, x_edges*20./0.2 + 275., \\\n",
      "            color='k', linestyle='--', linewidth=5)\n",
      "axMain.text(0.2, 295., 'Ocean', fontsize=16, fontweight='bold', \\\n",
      "                    ha='center', va='center', color='k')\n",
      "axMain.text(0.12, 260, 'Cloud', fontsize=16, fontweight='bold', \\\n",
      "                    ha='center', va='center', color='k')\n",
      "#\n",
      "# ========== Hist-x on bottom axis========== #\n",
      "#  place a 1-d histogram below the 2-d histogram to show\n",
      "#  channel 1 reflectivities\n",
      "#\n",
      "axHistx=plt.axes(rect_histx)\n",
      "axHistx.hist(x, bins=x_bins, color=[0.3, 0.6, 0.8])\n",
      "axHistx.set_xlim(xlim_bin)\n",
      "axHistx.axes.get_xaxis().set_visible(False)\n",
      "# scientific notation for x, y-axis\n",
      "plt.ticklabel_format(style='sci', axis='both', scilimits=(0,0))\n",
      "[i.set_linewidth(2) for i in axHistx.spines.itervalues()]\n",
      "#\n",
      "# ========== Hist-y ========== #\n",
      "#\n",
      "# place a 1-d histogram to the left of the 2-d histogram to show channel 31\n",
      "#\n",
      "axHisty = plt.axes(rect_histy)\n",
      "axHisty.hist(y, bins=y_bins, color=[0.3, 0.6, 0.8], orientation='horizontal')\n",
      "axHisty.set_ylim(ylim_bin)\n",
      "axHisty.invert_xaxis()\n",
      "axHisty.axes.get_yaxis().set_visible(False)\n",
      "plt.ticklabel_format(style='sci', axis='both', scilimits=(0,0))\n",
      "out=[i.set_linewidth(2) for i in axHisty.spines.itervalues()]\n",
      "# savefig\n",
      "#plt.savefig('01_MODIS_L1B_histgram.png', dpi=450, facecolor='w', edgecolor='w',\n",
      "#            orientation='portrait', papertype='letter', format='png',\n",
      "#            transparent=True, bbox_inches='tight', pad_inches=0,\n",
      "#           frameon=None)"
     ],
     "language": "python",
     "metadata": {},
     "outputs": []
    },
    {
     "cell_type": "markdown",
     "metadata": {},
     "source": [
      "## Now find all the pixels that lie above our \"decision boundary\" and count them to get open water fraction of scene"
     ]
    },
    {
     "cell_type": "code",
     "collapsed": false,
     "input": [
      "clear_cloudy=np.empty_like(Tb_grid)\n",
      "clear_cloudy[...]=np.nan\n",
      "for i in range(Tb_grid.shape[0]):\n",
      "    for j in range(Tb_grid.shape[1]):\n",
      "        #dashed line: Tbright=reflectivity*20./0.2 + 275.\n",
      "        if(Tb_grid[i, j] >  C1_grid[i, j]*20/0.2 + 275.):\n",
      "           #print(i,j,Tb_grid[i,j])\n",
      "           clear_cloudy[i, j]=Tb_grid[i, j]\n",
      "open_water=clear_cloudy[~np.isnan(clear_cloudy)]\n",
      "open_fraction=open_water.size/clear_cloudy.size\n",
      "print(\"Fraction of scene that is open water is: {:5.3f}\".format(open_fraction))\n",
      "out=plt.hist(clear_cloudy.flat[~np.isnan(clear_cloudy.flat)])"
     ],
     "language": "python",
     "metadata": {},
     "outputs": []
    },
    {
     "cell_type": "markdown",
     "metadata": {},
     "source": [
      "## Finally, make a map of the open water, setting the cloud temp to 200 K for a \"don't care\" value"
     ]
    },
    {
     "cell_type": "code",
     "collapsed": false,
     "input": [
      "from mpl_toolkits.basemap import Basemap\n",
      "lcc_values=dict(resolution='l',projection='lcc',\n",
      "                lat_1=20,lat_2=40,lat_0=30,lon_0=135,\n",
      "                llcrnrlon=120,llcrnrlat=20,\n",
      "                urcrnrlon=150,urcrnrlat=42)\n",
      "proj=Basemap(**lcc_values)\n",
      "# create figure, add axes\n",
      "fig=plt.figure(figsize=(12, 12))\n",
      "ax=fig.add_subplot(111)\n",
      "## define parallels and meridians to draw.\n",
      "parallels=np.arange(-90, 90, 5)\n",
      "meridians=np.arange(0, 360, 5)\n",
      "proj.drawparallels(parallels, labels=[1, 0, 0, 0],\\\n",
      "                  fontsize=10, latmax=90)\n",
      "proj.drawmeridians(meridians, labels=[0, 0, 0, 1],\\\n",
      "                  fontsize=10, latmax=90)\n",
      "# draw coast & fill continents\n",
      "#map.fillcontinents(color=[0.25, 0.25, 0.25], lake_color=None) # coral\n",
      "out=proj.drawcoastlines(linewidth=1.5, linestyle='solid', color='k')\n",
      "x, y=proj(longitude, latitude)\n",
      "#\n",
      "# the cloudy pixels have values of np.nan.\n",
      "# find these and set them to 200 K for\n",
      "# visualization\n",
      "#\n",
      "hit=np.isnan(clear_cloudy)\n",
      "clear_cloudy[hit]=200.\n",
      "CS=proj.pcolor(x, y, clear_cloudy, cmap=plt.cm.hot)\n",
      "# colorbar\n",
      "CBar=proj.colorbar(CS, 'right', size='5%', pad='5%')\n",
      "CBar.set_label('Sea surface temperature (K)', fontsize=10)\n",
      "CBar.ax.tick_params(axis='y', length=0)"
     ],
     "language": "python",
     "metadata": {},
     "outputs": []
    },
    {
     "cell_type": "code",
     "collapsed": false,
     "input": [],
     "language": "python",
     "metadata": {},
     "outputs": []
    }
   ],
   "metadata": {}
  }
 ]
}