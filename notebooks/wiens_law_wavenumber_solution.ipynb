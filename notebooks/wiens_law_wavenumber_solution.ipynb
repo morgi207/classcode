{
 "metadata": {
  "name": "",
  "signature": "sha256:421b8cecad95d31e974a5a4368ab18709cbd3facce59ed898fa74d57238a6b28"
 },
 "nbformat": 3,
 "nbformat_minor": 0,
 "worksheets": [
  {
   "cells": [
    {
     "cell_type": "heading",
     "level": 1,
     "metadata": {},
     "source": [
      "Modify the cells below so that they use lib/planck.planckwavenum to find the\n",
      "wavenumber nmax at which the planck function is maximum.  Note:  the\n",
      "peak wavenumber is not equal to 1/(peak wavelength) !!!"
     ]
    },
    {
     "cell_type": "code",
     "collapsed": false,
     "input": [
      "import numpy as np\n",
      "from matplotlib import pyplot as plt\n",
      "from __future__ import print_statement"
     ],
     "language": "python",
     "metadata": {},
     "outputs": [],
     "prompt_number": ""
    },
    {
     "cell_type": "code",
     "collapsed": false,
     "input": [
      "%matplotlib inline"
     ],
     "language": "python",
     "metadata": {},
     "outputs": [],
     "prompt_number": ""
    },
    {
     "cell_type": "code",
     "collapsed": false,
     "input": [
      "c=2.99792458e+08  #m/s -- speed of light in vacumn\n",
      "h=6.62606876e-34  #J s  -- Planck's constant\n",
      "kb=1.3806503e-23  # J/K  -- Boltzman's constant\n",
      "\n",
      "def planckwavelen(wavel,Temp):\n",
      "    \"\"\"input wavelength in microns and Temp in K, output\n",
      "    bbr in W/m^2/micron\n",
      "    \"\"\"\n",
      "    wavel=wavel*1.e-6  #convert to meters\n",
      "    c1=2.*h*c**2.\n",
      "    c2=h*c/kb\n",
      "    Elambda=1.e-6*np.pi*c1/(wavel**5.*(np.exp(c2/(wavel*Temp)) -1))\n",
      "    return Elambda\n"
     ],
     "language": "python",
     "metadata": {},
     "outputs": [],
     "prompt_number": ""
    },
    {
     "cell_type": "code",
     "collapsed": false,
     "input": [
      "the_wavelengths=np.linspace(0.1,60,5000) #microns\n",
      "the_temp=300 #K\n",
      "flux=planckwavelen(the_wavelengths,the_temp)\n",
      "fig1=plt.figure(1)\n",
      "axis1=fig1.add_subplot(1,1,1)\n",
      "axis1.plot(the_wavelengths,flux)"
     ],
     "language": "python",
     "metadata": {},
     "outputs": [],
     "prompt_number": ""
    },
    {
     "cell_type": "code",
     "collapsed": false,
     "input": [
      "dlambda=np.diff(the_wavelengths)\n",
      "dflux=np.diff(flux)\n",
      "the_deriv=dflux/dlambda\n",
      "fig2,axis2=plt.subplots(1,1)\n",
      "axis2.plot(the_wavelengths[:-1],the_deriv,label=\"approx derivative\")\n",
      "wiens_law=2897/the_temp\n",
      "axis2.plot(wiens_law,0,'k+',markersize=20,label=\"Wien's law\")\n",
      "axis2.legend()\n",
      "axis2.set_title(\"Wien's law demonstration\")\n",
      "axis2.set_ylabel(\"$dE_lambda/dlambda\\ (W/m^2/micron/micron)$\")\n",
      "axis2.set_xlabel('wavelength lambda (microns)')\n",
      "#savefig('wien_answer.png')"
     ],
     "language": "python",
     "metadata": {},
     "outputs": [],
     "prompt_number": ""
    },
    {
     "cell_type": "heading",
     "level": 2,
     "metadata": {},
     "source": [
      "Borrow code from plotplanck.ipynb"
     ]
    },
    {
     "cell_type": "code",
     "collapsed": false,
     "input": [
      "from __future__ import print_function\n",
      "import os,site\n",
      "currdir=os.getcwd()\n",
      "head,tail=os.path.split(currdir)\n",
      "libdir=os.path.join(head,'lib')\n",
      "site.addsitedir(libdir)\n",
      "from planck import planckwavenum"
     ],
     "language": "python",
     "metadata": {},
     "outputs": [],
     "prompt_number": ""
    },
    {
     "cell_type": "code",
     "collapsed": false,
     "input": [
      "wavenum_icm=np.arange(25,2500,20) #in inverse cm\n",
      "wavenum_im=wavenum_icm*100.  #in inverse m\n",
      "flux=planckwavenum(wavenum_im,the_temp)*np.pi*100 #convert to W/m^2/cm^-1 \n"
     ],
     "language": "python",
     "metadata": {},
     "outputs": [],
     "prompt_number": ""
    },
    {
     "cell_type": "code",
     "collapsed": false,
     "input": [
      "fig=plt.figure(2,figsize=(9,9))\n",
      "fig.clf()\n",
      "ax1=fig.add_subplot(111)\n",
      "ax1.plot(wavenum_icm,flux) "
     ],
     "language": "python",
     "metadata": {},
     "outputs": [],
     "prompt_number": ""
    },
    {
     "cell_type": "heading",
     "level": 2,
     "metadata": {},
     "source": [
      "Borrow code from the wien's law wavelength solution"
     ]
    },
    {
     "cell_type": "code",
     "collapsed": false,
     "input": [
      "dlambda=np.diff(wavenum_icm)\n",
      "dflux=np.diff(flux)\n",
      "the_deriv=dflux/dlambda\n",
      "zero_crossings=np.where(np.diff(np.sign(the_deriv)))\n",
      "num_max=wavenum_icm[zero_crossings[0]][0]\n",
      "print(\"found a maximum at {} cm-1\".format(num_max))"
     ],
     "language": "python",
     "metadata": {},
     "outputs": [],
     "prompt_number": ""
    },
    {
     "cell_type": "heading",
     "level": 2,
     "metadata": {},
     "source": [
      "Print out the answer"
     ]
    },
    {
     "cell_type": "code",
     "collapsed": false,
     "input": [
      "wiens_law_wavelength=2897./the_temp\n",
      "wiens_law_inverse_microns=1./num_max*1.e4 #convert to wavelength in microns\n",
      "print_tup=(wiens_law_wavelength,num_max,wiens_law_inverse_microns)\n",
      "text=\"\"\"note that for this temperature Wien's law for wavelength says that the\n",
      "        maximum occurs at {:6.3f} microns but taking the inverse of the wavenumber maximum\n",
      "        shows that this peak is located at 1/{} cm = {:6.3f} microns\"\"\".format(*print_tup)\n",
      "print(text)"
     ],
     "language": "python",
     "metadata": {},
     "outputs": [],
     "prompt_number": ""
    },
    {
     "cell_type": "code",
     "collapsed": false,
     "input": [],
     "language": "python",
     "metadata": {},
     "outputs": []
    }
   ],
   "metadata": {}
  }
 ]
}