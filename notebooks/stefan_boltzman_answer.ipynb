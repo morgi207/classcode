{
 "metadata": {
  "name": "",
  "signature": "sha256:f051f46d88f3ea37d10e6eeeea999c885c8ab3fdc78886cd85c71f67024f39c7"
 },
 "nbformat": 3,
 "nbformat_minor": 0,
 "worksheets": [
  {
   "cells": [
    {
     "cell_type": "heading",
     "level": 1,
     "metadata": {},
     "source": [
      "Stefan-Boltzman answer"
     ]
    },
    {
     "cell_type": "markdown",
     "metadata": {},
     "source": [
      "Calculate the definite integral of $\\int_0^5 a x^3 dx$ for a given value of a and compare it\n",
      "with the analytic answer: $y=\\frac{a}{4} 5^4$"
     ]
    },
    {
     "cell_type": "code",
     "collapsed": false,
     "input": [
      "import matplotlib.pyplot as plt\n",
      "import numpy as np"
     ],
     "language": "python",
     "metadata": {},
     "outputs": [],
     "prompt_number": ""
    },
    {
     "cell_type": "code",
     "collapsed": false,
     "input": [
      "xvec=np.arange(0,5,0.01) #vector from 0 to 5 in 0.01 step sizes"
     ],
     "language": "python",
     "metadata": {},
     "outputs": [],
     "prompt_number": ""
    },
    {
     "cell_type": "code",
     "collapsed": false,
     "input": [
      "xvec[:10] #print the first 10 values"
     ],
     "language": "python",
     "metadata": {},
     "outputs": [],
     "prompt_number": ""
    },
    {
     "cell_type": "markdown",
     "metadata": {},
     "source": [
      "Now make a vector of intervals $dx$ using the diff function"
     ]
    },
    {
     "cell_type": "code",
     "collapsed": false,
     "input": [
      "dx=np.diff(xvec) #note that dx is one item shorter than xvec"
     ],
     "language": "python",
     "metadata": {},
     "outputs": [],
     "prompt_number": ""
    },
    {
     "cell_type": "markdown",
     "metadata": {},
     "source": [
      "integration is just the sum over rectangles of width $dx$\n",
      "and height $ax^3$"
     ]
    },
    {
     "cell_type": "code",
     "collapsed": false,
     "input": [
      "a=5\n",
      "integral=np.sum(a*xvec[0:-1]**3.*dx)\n",
      "analytic=a/4.*5.**4.\n",
      "print \"analytic: %8.4f, approximate: %8.4f\" % (analytic,integral)"
     ],
     "language": "python",
     "metadata": {},
     "outputs": [],
     "prompt_number": ""
    },
    {
     "cell_type": "markdown",
     "metadata": {},
     "source": [
      "Apply this to the Planck function (Stull Chapter 2, Equation 2.13, p. 36):\n",
      "\n",
      "$E_\\lambda^* = \\frac{c1}{\\lambda^5 \\left ( exp(c_2/(\\lambda T)) - 1 \\right )}$\n",
      "\n",
      "or [Planck's law](http://en.wikipedia.org/wiki/Planck's_law)\n",
      "\n",
      "$E_\\lambda* =\\pi \\frac{2 hc^2}{\\lambda^5}\\frac{1}{ e^{\\frac{hc}{\\lambda kT}}-1}$\n",
      "\n",
      "where\n",
      "\n",
      "$h$=Planck's constant ($6.63 \\times 10^{-34}$ Joule seconds})\n",
      "\n",
      "$c$= Speed of light in a vacuum ($3.00 \\times 10^{8}\\ \\mathrm{meters/second}$)\n",
      "\n",
      "$k_b$ =Boltzman's  constant ($1.38 \\times 10^{-23}\\ \\mathrm{Joules/Kelvin}$)\n",
      "\n",
      "(note that $E_\\lambda*$ is the blackbody *flux*, or *irradiance*, with units of $W/m^2 /\\mu m$)\n",
      "Wikipedia (and Wallace and Hobbs) give the blackbody *radiance* which differs by\n",
      "by a factor of $\\pi$ and has units of $W/m^2/\\mu m /sr$.  We will talk a lot about this\n",
      "in the next few weeks, don't worry about it for now.\n"
     ]
    },
    {
     "cell_type": "code",
     "collapsed": false,
     "input": [
      "c=2.99792458e+08  #m/s -- speed of light in vacumn\n",
      "h=6.62606876e-34  #J s  -- Planck's constant\n",
      "kb=1.3806503e-23  # J/K  -- Boltzman's constant\n",
      "\n",
      "def planckwavelen(wavel,Temp):\n",
      "    \"\"\"input wavelength in microns and Temp in K, output\n",
      "    bbr in W/m^2/micron\n",
      "    \"\"\"\n",
      "    wavel=wavel*1.e-6  #convert to meters\n",
      "    c1=2.*h*c**2.\n",
      "    c2=h*c/kb\n",
      "    Elambda=1.e-6*np.pi*c1/(wavel**5.*(np.exp(c2/(wavel*Temp)) -1))\n",
      "    return Elambda\n"
     ],
     "language": "python",
     "metadata": {},
     "outputs": [],
     "prompt_number": ""
    },
    {
     "cell_type": "code",
     "collapsed": false,
     "input": [
      "the_wavelengths=np.linspace(0.1,30,5000) #microns\n",
      "the_temp=300 #K\n",
      "flux=planckwavelen(the_wavelengths,the_temp)\n",
      "plt.plot(the_wavelengths,flux)"
     ],
     "language": "python",
     "metadata": {},
     "outputs": [],
     "prompt_number": ""
    },
    {
     "cell_type": "markdown",
     "metadata": {},
     "source": [
      "Assignment:  Use sum and diff along with the function planckwavelen to\n",
      "integrate the Planck function over wavelength and verify the\n",
      "Stefan-Boltzman equation on Stull chapter 2 p. 37:\n",
      "\n",
      "$E^* = \\int_0^\\infty E_\\lambda^* d\\lambda = \\sigma T^4$\n",
      "\n",
      "where $\\sigma=5.67 \\times 10^-8$ $W/m^2/K^{4}$"
     ]
    },
    {
     "cell_type": "heading",
     "level": 4,
     "metadata": {},
     "source": [
      "Answer (I extended the maximum wavelength and the number of points until\n",
      "I got agreement to a percent or so -- but it wasn't necessary for the spirit of this exercise)."
     ]
    },
    {
     "cell_type": "code",
     "collapsed": false,
     "input": [
      "the_wavelengths=np.linspace(0.1,200,50000) #microns\n",
      "the_temp=300 #K\n",
      "flux=planckwavelen(the_wavelengths,the_temp)\n",
      "the_int=np.sum(flux[:-1]*np.diff(the_wavelengths))\n",
      "sigma=5.67e-8  #W/m^2/K^4\n",
      "stefan=sigma*the_temp**4.\n",
      "print \"approx integral: %9.4f, exact stefan boltzman %9.4f\" % (the_int,stefan)"
     ],
     "language": "python",
     "metadata": {},
     "outputs": [],
     "prompt_number": ""
    }
   ],
   "metadata": {}
  }
 ]
}